{
 "cells": [
  {
   "cell_type": "code",
   "execution_count": 2,
   "metadata": {},
   "outputs": [
    {
     "name": "stdout",
     "output_type": "stream",
     "text": [
      "Cloning into 'Recycle_Classification_Dataset'...\n",
      "remote: Enumerating objects: 9442, done.\u001b[K\n",
      "remote: Total 9442 (delta 0), reused 0 (delta 0), pack-reused 9442 (from 1)\u001b[K\n",
      "Receiving objects: 100% (9442/9442), 6.87 GiB | 11.40 MiB/s, done.\n",
      "Resolving deltas: 100% (14/14), done.\n",
      "Updating files: 100% (9417/9417), done.\n"
     ]
    }
   ],
   "source": [
    "!git clone https://github.com/jetsonai/Recycle_Classification_Dataset"
   ]
  },
  {
   "cell_type": "code",
   "execution_count": 3,
   "metadata": {},
   "outputs": [],
   "source": [
    "!rm -rf ./Recycle_Classification_Dataset/.git"
   ]
  },
  {
   "cell_type": "code",
   "execution_count": null,
   "metadata": {},
   "outputs": [
    {
     "name": "stderr",
     "output_type": "stream",
     "text": [
      "  0%|          | 0/442 [00:00<?, ?it/s]"
     ]
    },
    {
     "name": "stdout",
     "output_type": "stream",
     "text": [
      "Learning from scratch\n"
     ]
    },
    {
     "name": "stderr",
     "output_type": "stream",
     "text": [
      "100%|██████████| 442/442 [05:21<00:00,  1.37it/s]\n",
      "100%|██████████| 148/148 [01:44<00:00,  1.42it/s]\n",
      "  0%|          | 0/442 [00:00<?, ?it/s]"
     ]
    },
    {
     "name": "stdout",
     "output_type": "stream",
     "text": [
      "[1] Test Loss: 1.2285, Accuracy: 52.36%\n",
      "model saved!\n"
     ]
    },
    {
     "name": "stderr",
     "output_type": "stream",
     "text": [
      "100%|██████████| 442/442 [05:12<00:00,  1.41it/s]\n",
      "100%|██████████| 148/148 [01:43<00:00,  1.43it/s]\n",
      "  0%|          | 0/442 [00:00<?, ?it/s]"
     ]
    },
    {
     "name": "stdout",
     "output_type": "stream",
     "text": [
      "[2] Test Loss: 1.1943, Accuracy: 53.42%\n",
      "model saved!\n"
     ]
    },
    {
     "name": "stderr",
     "output_type": "stream",
     "text": [
      "100%|██████████| 442/442 [05:15<00:00,  1.40it/s]\n",
      "100%|██████████| 148/148 [01:43<00:00,  1.44it/s]\n",
      "  0%|          | 0/442 [00:00<?, ?it/s]"
     ]
    },
    {
     "name": "stdout",
     "output_type": "stream",
     "text": [
      "[3] Test Loss: 1.1623, Accuracy: 59.07%\n",
      "model saved!\n"
     ]
    },
    {
     "name": "stderr",
     "output_type": "stream",
     "text": [
      "100%|██████████| 442/442 [05:14<00:00,  1.40it/s]\n",
      "100%|██████████| 148/148 [01:43<00:00,  1.43it/s]\n",
      "  0%|          | 0/442 [00:00<?, ?it/s]"
     ]
    },
    {
     "name": "stdout",
     "output_type": "stream",
     "text": [
      "[4] Test Loss: 1.1572, Accuracy: 58.81%\n"
     ]
    },
    {
     "name": "stderr",
     "output_type": "stream",
     "text": [
      "100%|██████████| 442/442 [05:13<00:00,  1.41it/s]\n",
      "100%|██████████| 148/148 [01:42<00:00,  1.44it/s]\n",
      "  0%|          | 0/442 [00:00<?, ?it/s]"
     ]
    },
    {
     "name": "stdout",
     "output_type": "stream",
     "text": [
      "[5] Test Loss: 1.1525, Accuracy: 59.24%\n",
      "model saved!\n"
     ]
    },
    {
     "name": "stderr",
     "output_type": "stream",
     "text": [
      "100%|██████████| 442/442 [05:13<00:00,  1.41it/s]\n",
      "100%|██████████| 148/148 [01:43<00:00,  1.43it/s]\n",
      "  0%|          | 0/442 [00:00<?, ?it/s]"
     ]
    },
    {
     "name": "stdout",
     "output_type": "stream",
     "text": [
      "[6] Test Loss: 1.1407, Accuracy: 60.81%\n",
      "model saved!\n"
     ]
    },
    {
     "name": "stderr",
     "output_type": "stream",
     "text": [
      "100%|██████████| 442/442 [05:12<00:00,  1.41it/s]\n",
      "100%|██████████| 148/148 [01:42<00:00,  1.44it/s]\n",
      "  0%|          | 0/442 [00:00<?, ?it/s]"
     ]
    },
    {
     "name": "stdout",
     "output_type": "stream",
     "text": [
      "[7] Test Loss: 1.1363, Accuracy: 60.89%\n",
      "model saved!\n"
     ]
    },
    {
     "name": "stderr",
     "output_type": "stream",
     "text": [
      "100%|██████████| 442/442 [05:13<00:00,  1.41it/s]\n",
      "100%|██████████| 148/148 [01:42<00:00,  1.44it/s]\n",
      "  0%|          | 0/442 [00:00<?, ?it/s]"
     ]
    },
    {
     "name": "stdout",
     "output_type": "stream",
     "text": [
      "[8] Test Loss: 1.1392, Accuracy: 61.06%\n",
      "model saved!\n"
     ]
    },
    {
     "name": "stderr",
     "output_type": "stream",
     "text": [
      "100%|██████████| 442/442 [05:15<00:00,  1.40it/s]\n",
      "100%|██████████| 148/148 [01:42<00:00,  1.44it/s]\n",
      "  0%|          | 0/442 [00:00<?, ?it/s]"
     ]
    },
    {
     "name": "stdout",
     "output_type": "stream",
     "text": [
      "[9] Test Loss: 1.1370, Accuracy: 61.15%\n",
      "model saved!\n"
     ]
    },
    {
     "name": "stderr",
     "output_type": "stream",
     "text": [
      "100%|██████████| 442/442 [05:13<00:00,  1.41it/s]\n",
      "100%|██████████| 148/148 [01:42<00:00,  1.44it/s]"
     ]
    },
    {
     "name": "stdout",
     "output_type": "stream",
     "text": [
      "[10] Test Loss: 1.1312, Accuracy: 61.61%\n",
      "model saved!\n"
     ]
    },
    {
     "name": "stderr",
     "output_type": "stream",
     "text": [
      "\n"
     ]
    }
   ],
   "source": [
    "# 학습 : 69m 39s / Accuracy: 61.61%\n",
    "from Training_Class import PyTorch_Classification_Training_Class\n",
    "training_class=PyTorch_Classification_Training_Class()\n",
    "\n",
    "print('Learning from scratch')\n",
    "\n",
    "training_class.prepare_network(True)\n",
    "training_class.training_network(learning_rate=0.0001,epochs=10,step_size=3,gamma=0.3)"
   ]
  },
  {
   "cell_type": "code",
   "execution_count": null,
   "metadata": {},
   "outputs": [
    {
     "name": "stderr",
     "output_type": "stream",
     "text": [
      "/opt/homebrew/Caskroom/miniforge/base/lib/python3.9/site-packages/torchvision/models/_utils.py:208: UserWarning: The parameter 'pretrained' is deprecated since 0.13 and may be removed in the future, please use 'weights' instead.\n",
      "  warnings.warn(\n",
      "/opt/homebrew/Caskroom/miniforge/base/lib/python3.9/site-packages/torchvision/models/_utils.py:223: UserWarning: Arguments other than a weight enum or `None` for 'weights' are deprecated since 0.13 and may be removed in the future. The current behavior is equivalent to passing `weights=MobileNet_V2_Weights.IMAGENET1K_V1`. You can also use `weights=MobileNet_V2_Weights.DEFAULT` to get the most up-to-date weights.\n",
      "  warnings.warn(msg)\n",
      "  0%|          | 0/442 [00:00<?, ?it/s]"
     ]
    },
    {
     "name": "stdout",
     "output_type": "stream",
     "text": [
      "Transfer Learning\n"
     ]
    },
    {
     "name": "stderr",
     "output_type": "stream",
     "text": [
      "100%|██████████| 442/442 [06:24<00:00,  1.15it/s]\n",
      "100%|██████████| 148/148 [01:50<00:00,  1.34it/s]\n",
      "  0%|          | 0/442 [00:00<?, ?it/s]"
     ]
    },
    {
     "name": "stdout",
     "output_type": "stream",
     "text": [
      "[1] Test Loss: 0.9189, Accuracy: 87.26%\n",
      "model saved!\n"
     ]
    },
    {
     "name": "stderr",
     "output_type": "stream",
     "text": [
      "100%|██████████| 442/442 [06:17<00:00,  1.17it/s]\n",
      "100%|██████████| 148/148 [01:49<00:00,  1.35it/s]\n",
      "  0%|          | 0/442 [00:00<?, ?it/s]"
     ]
    },
    {
     "name": "stdout",
     "output_type": "stream",
     "text": [
      "[2] Test Loss: 0.8326, Accuracy: 93.46%\n",
      "model saved!\n"
     ]
    },
    {
     "name": "stderr",
     "output_type": "stream",
     "text": [
      "100%|██████████| 442/442 [06:15<00:00,  1.18it/s]\n",
      "100%|██████████| 148/148 [01:49<00:00,  1.36it/s]\n",
      "  0%|          | 0/442 [00:00<?, ?it/s]"
     ]
    },
    {
     "name": "stdout",
     "output_type": "stream",
     "text": [
      "[3] Test Loss: 0.8068, Accuracy: 95.03%\n",
      "model saved!\n"
     ]
    },
    {
     "name": "stderr",
     "output_type": "stream",
     "text": [
      "100%|██████████| 442/442 [06:23<00:00,  1.15it/s]\n",
      "100%|██████████| 148/148 [01:49<00:00,  1.36it/s]\n",
      "  0%|          | 0/442 [00:00<?, ?it/s]"
     ]
    },
    {
     "name": "stdout",
     "output_type": "stream",
     "text": [
      "[4] Test Loss: 0.8043, Accuracy: 95.41%\n",
      "model saved!\n"
     ]
    },
    {
     "name": "stderr",
     "output_type": "stream",
     "text": [
      "100%|██████████| 442/442 [06:14<00:00,  1.18it/s]\n",
      "100%|██████████| 148/148 [01:49<00:00,  1.36it/s]\n"
     ]
    },
    {
     "name": "stdout",
     "output_type": "stream",
     "text": [
      "[5] Test Loss: 0.7963, Accuracy: 95.67%\n",
      "model saved!\n"
     ]
    }
   ],
   "source": [
    "# 전이학습 : 40m 42.3s / Accuracy: 95.67%\n",
    "print('Transfer Learning')\n",
    "\n",
    "training_class.prepare_network(False)\n",
    "training_class.training_network(learning_rate=0.00001,epochs=5,step_size=3,gamma=0.3)"
   ]
  },
  {
   "cell_type": "code",
   "execution_count": null,
   "metadata": {},
   "outputs": [],
   "source": []
  }
 ],
 "metadata": {
  "kernelspec": {
   "display_name": "Python 3",
   "language": "python",
   "name": "python3"
  },
  "language_info": {
   "codemirror_mode": {
    "name": "ipython",
    "version": 3
   },
   "file_extension": ".py",
   "mimetype": "text/x-python",
   "name": "python",
   "nbconvert_exporter": "python",
   "pygments_lexer": "ipython3",
   "version": "3.9.4"
  }
 },
 "nbformat": 4,
 "nbformat_minor": 2
}
