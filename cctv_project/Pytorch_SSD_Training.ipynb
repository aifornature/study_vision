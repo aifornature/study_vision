{
 "cells": [
  {
   "cell_type": "code",
   "execution_count": 2,
   "metadata": {},
   "outputs": [],
   "source": [
    "import os"
   ]
  },
  {
   "cell_type": "markdown",
   "metadata": {},
   "source": [
    "# SSD 훈련 준비 "
   ]
  },
  {
   "cell_type": "code",
   "execution_count": 4,
   "metadata": {},
   "outputs": [],
   "source": [
    "# 데이터 파일 생성\n",
    "target_dir='./data'\n",
    "if not os.path.exists(target_dir):\n",
    "    os.makedirs(target_dir)"
   ]
  },
  {
   "cell_type": "code",
   "execution_count": 6,
   "metadata": {},
   "outputs": [
    {
     "name": "stdout",
     "output_type": "stream",
     "text": [
      "'pytorch-ssd'에 복제합니다...\n",
      "remote: Enumerating objects: 162, done.\u001b[K\n",
      "remote: Counting objects: 100% (59/59), done.\u001b[K\n",
      "remote: Compressing objects: 100% (56/56), done.\u001b[K\n",
      "remote: Total 162 (delta 28), reused 8 (delta 2), pack-reused 103 (from 1)\u001b[K\n",
      "오브젝트를 받는 중: 100% (162/162), 37.28 MiB | 11.42 MiB/s, 완료.\n",
      "델타를 알아내는 중: 100% (62/62), 완료.\n"
     ]
    }
   ],
   "source": [
    "# SSD 네트워크 훈련/테스트에 필요한 소스코드 및 환경을 위해 저장소 다운로드\n",
    "cd ./data\n",
    "!git clone https://github.com/jetsonai/pytorch-ssd"
   ]
  },
  {
   "cell_type": "code",
   "execution_count": null,
   "metadata": {},
   "outputs": [],
   "source": [
    "# SSD MobileNetV1으로 미리 학습된 모델 다운로드\n",
    "cd pytorch-ssd/\n",
    "!wget https://nvidia.box.com/shared/static/djf5w5rjvpqocsiztzaaandq1m3avr7c.pth -o models/mobilenet-v1-ssd-mp-0_675.pth"
   ]
  },
  {
   "cell_type": "code",
   "execution_count": 14,
   "metadata": {},
   "outputs": [
    {
     "name": "stdout",
     "output_type": "stream",
     "text": [
      "Using pip 24.2 from /opt/homebrew/Caskroom/miniforge/base/lib/python3.9/site-packages/pip (python 3.9)\n",
      "Collecting boto3 (from -r requirements.txt (line 1))\n",
      "  Obtaining dependency information for boto3 from https://files.pythonhosted.org/packages/b4/db/e6bf2a34d7e8440800fcd11f2b42efd4ba18cce56d5a213bb93bd62aaa0e/boto3-1.35.81-py3-none-any.whl.metadata\n",
      "  Downloading boto3-1.35.81-py3-none-any.whl.metadata (6.7 kB)\n",
      "Requirement already satisfied: pandas in /opt/homebrew/Caskroom/miniforge/base/lib/python3.9/site-packages (from -r requirements.txt (line 2)) (2.2.2)\n",
      "Requirement already satisfied: urllib3 in /opt/homebrew/Caskroom/miniforge/base/lib/python3.9/site-packages (from -r requirements.txt (line 3)) (1.26.4)\n",
      "Collecting botocore<1.36.0,>=1.35.81 (from boto3->-r requirements.txt (line 1))\n",
      "  Obtaining dependency information for botocore<1.36.0,>=1.35.81 from https://files.pythonhosted.org/packages/1a/ad/00dfec368dd4e957063ed1126b5511238b0900c1014dfe539af93fc0ac29/botocore-1.35.81-py3-none-any.whl.metadata\n",
      "  Downloading botocore-1.35.81-py3-none-any.whl.metadata (5.7 kB)\n",
      "Collecting jmespath<2.0.0,>=0.7.1 (from boto3->-r requirements.txt (line 1))\n",
      "  Obtaining dependency information for jmespath<2.0.0,>=0.7.1 from https://files.pythonhosted.org/packages/31/b4/b9b800c45527aadd64d5b442f9b932b00648617eb5d63d2c7a6587b7cafc/jmespath-1.0.1-py3-none-any.whl.metadata\n",
      "  Downloading jmespath-1.0.1-py3-none-any.whl.metadata (7.6 kB)\n",
      "Collecting s3transfer<0.11.0,>=0.10.0 (from boto3->-r requirements.txt (line 1))\n",
      "  Obtaining dependency information for s3transfer<0.11.0,>=0.10.0 from https://files.pythonhosted.org/packages/66/05/7957af15543b8c9799209506df4660cba7afc4cf94bfb60513827e96bed6/s3transfer-0.10.4-py3-none-any.whl.metadata\n",
      "  Downloading s3transfer-0.10.4-py3-none-any.whl.metadata (1.7 kB)\n",
      "Requirement already satisfied: numpy>=1.22.4 in /opt/homebrew/Caskroom/miniforge/base/lib/python3.9/site-packages (from pandas->-r requirements.txt (line 2)) (1.26.4)\n",
      "Requirement already satisfied: python-dateutil>=2.8.2 in /opt/homebrew/Caskroom/miniforge/base/lib/python3.9/site-packages (from pandas->-r requirements.txt (line 2)) (2.9.0.post0)\n",
      "Requirement already satisfied: pytz>=2020.1 in /opt/homebrew/Caskroom/miniforge/base/lib/python3.9/site-packages (from pandas->-r requirements.txt (line 2)) (2021.1)\n",
      "Requirement already satisfied: tzdata>=2022.7 in /opt/homebrew/Caskroom/miniforge/base/lib/python3.9/site-packages (from pandas->-r requirements.txt (line 2)) (2024.1)\n",
      "Requirement already satisfied: six>=1.5 in /opt/homebrew/Caskroom/miniforge/base/lib/python3.9/site-packages (from python-dateutil>=2.8.2->pandas->-r requirements.txt (line 2)) (1.16.0)\n",
      "Downloading boto3-1.35.81-py3-none-any.whl (139 kB)\n",
      "Downloading botocore-1.35.81-py3-none-any.whl (13.3 MB)\n",
      "\u001b[2K   \u001b[90m━━━━━━━━━━━━━━━━━━━━━━━━━━━━━━━━━━━━━━━━\u001b[0m \u001b[32m13.3/13.3 MB\u001b[0m \u001b[31m11.9 MB/s\u001b[0m eta \u001b[36m0:00:00\u001b[0ma \u001b[36m0:00:01\u001b[0m\n",
      "\u001b[?25hDownloading jmespath-1.0.1-py3-none-any.whl (20 kB)\n",
      "Downloading s3transfer-0.10.4-py3-none-any.whl (83 kB)\n",
      "\u001b[33mWARNING: Error parsing dependencies of pyzmq: Invalid version: 'cpython'\u001b[0m\u001b[33m\n",
      "\u001b[0mInstalling collected packages: jmespath, botocore, s3transfer, boto3\n",
      "Successfully installed boto3-1.35.81 botocore-1.35.81 jmespath-1.0.1 s3transfer-0.10.4\n",
      "\n",
      "\u001b[1m[\u001b[0m\u001b[34;49mnotice\u001b[0m\u001b[1;39;49m]\u001b[0m\u001b[39;49m A new release of pip is available: \u001b[0m\u001b[31;49m24.2\u001b[0m\u001b[39;49m -> \u001b[0m\u001b[32;49m24.3.1\u001b[0m\n",
      "\u001b[1m[\u001b[0m\u001b[34;49mnotice\u001b[0m\u001b[1;39;49m]\u001b[0m\u001b[39;49m To update, run: \u001b[0m\u001b[32;49mpip install --upgrade pip\u001b[0m\n"
     ]
    }
   ],
   "source": [
    "# 필수 패키지 설치\n",
    "!pip3 install -v -r requirements.txt"
   ]
  },
  {
   "cell_type": "code",
   "execution_count": 18,
   "metadata": {},
   "outputs": [
    {
     "name": "stdout",
     "output_type": "stream",
     "text": [
      "2024-12-14 23:19:27 - Download https://storage.googleapis.com/openimages/2018_04/class-descriptions-boxable.csv.\n",
      "2024-12-14 23:19:27 - Requested 3 classes, found 3 classes\n",
      "2024-12-14 23:19:27 - Download https://storage.googleapis.com/openimages/2018_04/train/train-annotations-bbox.csv.\n",
      "2024-12-14 23:21:09 - Read annotation file data/cctv/train-annotations-bbox.csv\n",
      "2024-12-14 23:21:28 - Available train images:  309855\n",
      "2024-12-14 23:21:28 - Available train boxes:   1176919\n",
      "\n",
      "2024-12-14 23:21:28 - Download https://storage.googleapis.com/openimages/2018_04/validation/validation-annotations-bbox.csv.\n",
      "2024-12-14 23:21:30 - Read annotation file data/cctv/validation-annotations-bbox.csv\n",
      "2024-12-14 23:21:31 - Available validation images:  10623\n",
      "2024-12-14 23:21:31 - Available validation boxes:   22029\n",
      "\n",
      "2024-12-14 23:21:31 - Download https://storage.googleapis.com/openimages/2018_04/test/test-annotations-bbox.csv.\n",
      "2024-12-14 23:21:36 - Read annotation file data/cctv/test-annotations-bbox.csv\n",
      "2024-12-14 23:21:36 - Available test images:  31898\n",
      "2024-12-14 23:21:36 - Available test boxes:   67526\n",
      "\n",
      "2024-12-14 23:21:36 - Total available images: 352376\n",
      "2024-12-14 23:21:36 - Total available boxes:  1266474\n",
      "\n",
      "2024-12-14 23:21:36 - Limiting train dataset to:  3956 images (14595 boxes)\n",
      "2024-12-14 23:21:36 - Limiting validation dataset to:  135 images (339 boxes)\n",
      "2024-12-14 23:21:36 - Limiting test dataset to:  407 images (881 boxes)\n",
      "\n",
      "-------------------------------------\n",
      " 'train' set statistics\n",
      "-------------------------------------\n",
      "  Image count:  3956\n",
      "  Bounding box count:  14595\n",
      "  Bounding box distribution: \n",
      "    Person:  11398/14595 = 0.78\n",
      "    Car:  3031/14595 = 0.21\n",
      "    Cat:  166/14595 = 0.01\n",
      " \n",
      "\n",
      "-------------------------------------\n",
      " 'validation' set statistics\n",
      "-------------------------------------\n",
      "  Image count:  135\n",
      "  Bounding box count:  339\n",
      "  Bounding box distribution: \n",
      "    Person:  201/339 = 0.59\n",
      "    Car:  135/339 = 0.40\n",
      "    Cat:  3/339 = 0.01\n",
      " \n",
      "\n",
      "-------------------------------------\n",
      " 'test' set statistics\n",
      "-------------------------------------\n",
      "  Image count:  407\n",
      "  Bounding box count:  881\n",
      "  Bounding box distribution: \n",
      "    Person:  526/881 = 0.60\n",
      "    Car:  338/881 = 0.38\n",
      "    Cat:  17/881 = 0.02\n",
      " \n",
      "\n",
      "-------------------------------------\n",
      " Overall statistics\n",
      "-------------------------------------\n",
      "  Image count:  4498\n",
      "  Bounding box count:  15815\n",
      "\n",
      "2024-12-14 23:21:36 - Saving 'train' data to data/cctv/sub-train-annotations-bbox.csv.\n",
      "2024-12-14 23:21:36 - Saving 'validation' data to data/cctv/sub-validation-annotations-bbox.csv.\n",
      "2024-12-14 23:21:36 - Saving 'test' data to data/cctv/sub-test-annotations-bbox.csv.\n",
      "2024-12-14 23:21:36 - Starting to download 4498 images.\n",
      "WARNING:root:Downloaded 100 images.\n",
      "WARNING:root:Downloaded 200 images.\n",
      "WARNING:root:Downloaded 300 images.\n",
      "WARNING:root:Downloaded 400 images.\n",
      "WARNING:root:Downloaded 500 images.\n",
      "WARNING:root:Downloaded 600 images.\n",
      "WARNING:root:Downloaded 700 images.\n",
      "WARNING:root:Downloaded 800 images.\n",
      "WARNING:root:Downloaded 900 images.\n",
      "WARNING:root:Downloaded 1000 images.\n",
      "WARNING:root:Downloaded 1100 images.\n",
      "WARNING:root:Downloaded 1200 images.\n",
      "WARNING:root:Downloaded 1300 images.\n",
      "WARNING:root:Downloaded 1400 images.\n",
      "WARNING:root:Downloaded 1500 images.\n",
      "WARNING:root:Downloaded 1600 images.\n",
      "WARNING:root:Downloaded 1700 images.\n",
      "WARNING:root:Downloaded 1800 images.\n",
      "WARNING:root:Downloaded 1900 images.\n",
      "WARNING:root:Downloaded 2000 images.\n",
      "WARNING:root:Downloaded 2100 images.\n",
      "WARNING:root:Downloaded 2200 images.\n",
      "WARNING:root:Downloaded 2300 images.\n",
      "WARNING:root:Downloaded 2400 images.\n",
      "WARNING:root:Downloaded 2500 images.\n",
      "WARNING:root:Downloaded 2600 images.\n",
      "WARNING:root:Downloaded 2700 images.\n",
      "WARNING:root:Downloaded 2800 images.\n",
      "WARNING:root:Downloaded 2900 images.\n",
      "WARNING:root:Downloaded 3000 images.\n",
      "WARNING:root:Downloaded 3100 images.\n",
      "WARNING:root:Downloaded 3200 images.\n",
      "WARNING:root:Downloaded 3300 images.\n",
      "WARNING:root:Downloaded 3400 images.\n",
      "WARNING:root:Downloaded 3500 images.\n",
      "WARNING:root:Downloaded 3600 images.\n",
      "WARNING:root:Downloaded 3700 images.\n",
      "WARNING:root:Downloaded 3800 images.\n",
      "WARNING:root:Downloaded 3900 images.\n",
      "WARNING:root:Downloaded 4000 images.\n",
      "WARNING:root:Downloaded 4100 images.\n",
      "WARNING:root:Downloaded 4200 images.\n",
      "WARNING:root:Downloaded 4300 images.\n",
      "WARNING:root:Downloaded 4400 images.\n",
      "2024-12-14 23:49:54 - Task Done.\n"
     ]
    }
   ],
   "source": [
    "# 이미지 데이터세트 다운로드 \n",
    "!python3 open_images_downloader.py --class-names \"Person, Car, Cat\" --data=data/cctv --max-images=4500 --num-workers=2\n",
    "## open image dataset 사용 (https://storage.googleapis.com/openimages/web/index.html)\n",
    "## class-names은 pytorch-ssd/open_images_classes.txt에서 가져올 수 있음."
   ]
  },
  {
   "cell_type": "code",
   "execution_count": null,
   "metadata": {},
   "outputs": [],
   "source": []
  },
  {
   "cell_type": "code",
   "execution_count": null,
   "metadata": {},
   "outputs": [],
   "source": []
  }
 ],
 "metadata": {
  "kernelspec": {
   "display_name": "Python 3",
   "language": "python",
   "name": "python3"
  },
  "language_info": {
   "codemirror_mode": {
    "name": "ipython",
    "version": 3
   },
   "file_extension": ".py",
   "mimetype": "text/x-python",
   "name": "python",
   "nbconvert_exporter": "python",
   "pygments_lexer": "ipython3",
   "version": "3.9.4"
  }
 },
 "nbformat": 4,
 "nbformat_minor": 2
}
