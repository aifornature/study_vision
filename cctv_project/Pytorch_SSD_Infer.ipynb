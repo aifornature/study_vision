{
  "cells": [
    {
      "cell_type": "code",
      "execution_count": null,
      "metadata": {},
      "outputs": [],
      "source": [
        "cd ./data/pytorch-ssd/"
      ]
    },
    {
      "cell_type": "code",
      "execution_count": 3,
      "metadata": {
        "id": "EF_Hug-LgSYK"
      },
      "outputs": [
        {
          "name": "stdout",
          "output_type": "stream",
          "text": [
            "2.2.2\n"
          ]
        }
      ],
      "source": [
        "import torch\n",
        "print(torch.__version__)"
      ]
    },
    {
      "cell_type": "code",
      "execution_count": 4,
      "metadata": {
        "id": "A9VnAx0Elhvg"
      },
      "outputs": [],
      "source": [
        "#3. GPU 사용 체크\n",
        "is_cuda = torch.device('mps' if torch.backends.mps.is_available() else \"cpu\")"
      ]
    },
    {
      "cell_type": "code",
      "execution_count": 5,
      "metadata": {
        "id": "2u_RJyHYUq6K"
      },
      "outputs": [],
      "source": [
        "#4. 이미지 보여주는 함수\n",
        "def imShow(path):\n",
        "  import cv2\n",
        "  import matplotlib.pyplot as plt\n",
        "  %matplotlib inline\n",
        "\n",
        "  image = cv2.imread(path)\n",
        "  height, width = image.shape[:2]\n",
        "  resized_image = cv2.resize(image,(3*width, 3*height), interpolation = cv2.INTER_CUBIC)\n",
        "\n",
        "  fig = plt.gcf()\n",
        "  fig.set_size_inches(18, 10)\n",
        "  plt.axis(\"off\")\n",
        "  plt.imshow(cv2.cvtColor(resized_image, cv2.COLOR_BGR2RGB))\n",
        "  plt.show()"
      ]
    },
    {
      "cell_type": "markdown",
      "metadata": {
        "id": "YosiUH9krgoe"
      },
      "source": [
        "이전 예제에서 학습시킨 모델 파일들 보기"
      ]
    },
    {
      "cell_type": "code",
      "execution_count": 8,
      "metadata": {},
      "outputs": [
        {
          "data": {
            "text/plain": [
              "'/Users/i/Downloads/cv_project2_cctv_project/data/pytorch-ssd'"
            ]
          },
          "execution_count": 8,
          "metadata": {},
          "output_type": "execute_result"
        }
      ],
      "source": [
        "pwd"
      ]
    },
    {
      "cell_type": "code",
      "execution_count": 9,
      "metadata": {
        "id": "9uVkH6aOJl1l"
      },
      "outputs": [
        {
          "name": "stdout",
          "output_type": "stream",
          "text": [
            "total 8\n",
            "drwxr-xr-x@ 3 i  staff   96 Dec 16 00:07 \u001b[34m.\u001b[m\u001b[m\n",
            "drwxr-xr-x@ 6 i  staff  192 Dec 16 00:07 \u001b[34m..\u001b[m\u001b[m\n",
            "-rw-r--r--@ 1 i  staff   25 Dec 16 00:07 labels.txt\n"
          ]
        }
      ],
      "source": [
        "#5. 모델 파일 이름들 보기 \n",
        "!ls -al ./models/cctv"
      ]
    },
    {
      "cell_type": "markdown",
      "metadata": {
        "id": "WTA3oCo5xBod"
      },
      "source": [
        "가장 오래 학습한 모델 파일만 보기"
      ]
    },
    {
      "cell_type": "code",
      "execution_count": 11,
      "metadata": {
        "id": "UCgGgGVts2K2"
      },
      "outputs": [
        {
          "name": "stdout",
          "output_type": "stream",
          "text": [
            "zsh:1: no matches found: ./models/cctv/mb1-ssd-Epoch-34*\n"
          ]
        }
      ],
      "source": [
        "!ls -al ./models/cctv/mb1-ssd-Epoch-34*"
      ]
    },
    {
      "cell_type": "markdown",
      "metadata": {
        "id": "X3qu1pfBtx6u"
      },
      "source": [
        "이 중 Loss가 낮은 파일의 이름을 복사해서 아래 코드의 [34번째 모델 파일 이름]을지우고 붙혀넣기 한 다음 코드를 실행시켜서 mb1-ssd-cctv.pth 로 변경하세요.\n",
        "\n"
      ]
    },
    {
      "cell_type": "code",
      "execution_count": null,
      "metadata": {
        "id": "WNRcYPj5uBDu"
      },
      "outputs": [],
      "source": [
        "#6. 가장 오래 학습한 파일 파일을 mb1-ssd-cctv.pth 로 변경\n",
        "!mv models/cctv/[34번째 모델 파일 이름].pth models/cctv/mb1-ssd-cctv.pth"
      ]
    },
    {
      "cell_type": "code",
      "execution_count": null,
      "metadata": {
        "id": "p10wpOAku3jO"
      },
      "outputs": [],
      "source": [
        "!ls models/cctv/mb1-ssd-cctv.pth"
      ]
    },
    {
      "cell_type": "markdown",
      "metadata": {
        "id": "uid5GPU6ryLI"
      },
      "source": [
        "구글 드라이브로 가서 ssd/pytorch-ssd/data/cctv/test/ 폴더의 이미지 2개를 각각 testimage1.jpg, testimage2.jpg 로 rename 해줍니다."
      ]
    },
    {
      "cell_type": "code",
      "execution_count": null,
      "metadata": {
        "id": "WPUVuJvGldKU"
      },
      "outputs": [],
      "source": [
        "!ls data/cctv/test/testimage*.jpg"
      ]
    },
    {
      "cell_type": "code",
      "execution_count": null,
      "metadata": {
        "id": "Ub8eCxuJUj5T"
      },
      "outputs": [],
      "source": [
        "#7. 테스트 이미지1 보기\n",
        "imShow('data/cctv/test/testimage1.jpg')"
      ]
    },
    {
      "cell_type": "markdown",
      "metadata": {
        "id": "SFsXmNHstTCm"
      },
      "source": [
        "run_ssd_example.py 를 실행시키세요."
      ]
    },
    {
      "cell_type": "code",
      "execution_count": null,
      "metadata": {
        "id": "ChNxJLFxMRIN"
      },
      "outputs": [],
      "source": [
        "#8. run_ssd_example.py 로 테스트 이미지1 추론하기\n",
        "!python3 run_ssd_example.py mb1-ssd models/cctv/mb1-ssd-cctv.pth models/cctv/labels.txt data/cctv/test/testimage1.jpg"
      ]
    },
    {
      "cell_type": "code",
      "execution_count": null,
      "metadata": {
        "id": "YP2CBE9YN377"
      },
      "outputs": [],
      "source": [
        "#9. 추론된 결과 이미지 파일 보기\n",
        "imShow('run_ssd_example_output.jpg')"
      ]
    },
    {
      "cell_type": "code",
      "execution_count": null,
      "metadata": {
        "id": "nKwcE4PeKVuN"
      },
      "outputs": [],
      "source": [
        "#10. 테스트 이미지2 보기\n",
        "imShow('data/cctv/test/testimage2.jpg')"
      ]
    },
    {
      "cell_type": "code",
      "execution_count": null,
      "metadata": {
        "id": "K0rOphfBKfy1"
      },
      "outputs": [],
      "source": [
        "#11. run_ssd_example.py 로 테스트 이미지2 추론하기\n",
        "!python3 run_ssd_example.py mb1-ssd models/cctv/mb1-ssd-cctv.pth models/cctv/labels.txt data/cctv/test/testimage2.jpg"
      ]
    },
    {
      "cell_type": "code",
      "execution_count": null,
      "metadata": {
        "id": "7TB3NZEtKlPl"
      },
      "outputs": [],
      "source": [
        "#12. 추론된 결과 이미지 파일 보기\n",
        "imShow('run_ssd_example_output.jpg')"
      ]
    }
  ],
  "metadata": {
    "accelerator": "GPU",
    "colab": {
      "collapsed_sections": [],
      "name": "Pytorch_SSD_Infer.ipynb",
      "private_outputs": true,
      "provenance": []
    },
    "kernelspec": {
      "display_name": "Python 3",
      "name": "python3"
    },
    "language_info": {
      "codemirror_mode": {
        "name": "ipython",
        "version": 3
      },
      "file_extension": ".py",
      "mimetype": "text/x-python",
      "name": "python",
      "nbconvert_exporter": "python",
      "pygments_lexer": "ipython3",
      "version": "3.9.4"
    }
  },
  "nbformat": 4,
  "nbformat_minor": 0
}
